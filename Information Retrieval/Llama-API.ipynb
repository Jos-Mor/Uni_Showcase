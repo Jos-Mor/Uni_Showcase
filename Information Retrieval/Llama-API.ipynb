{
 "cells": [
  {
   "cell_type": "markdown",
   "id": "4235d875-0fe1-4cda-aafb-8826f30e4041",
   "metadata": {},
   "source": [
    "# Llama 3.2 API \n",
    "The following method provides you with a simple access to a Llama3.2 (3B).\n",
    "\n",
    "You can provide a prompt and ask the model to generate an answer."
   ]
  },
  {
   "cell_type": "code",
   "execution_count": 18,
   "id": "4f62019e-2c65-47b4-94d6-4db42055d288",
   "metadata": {},
   "outputs": [],
   "source": [
    "import requests\n",
    "\n",
    "def generate_text_with_ollama(prompt):\n",
    "    \"\"\"\n",
    "    Sends a prompt to an Ollama server and retrieves the generated text.\n",
    "\n",
    "    Args:\n",
    "        prompt (str): The text prompt to send to the model.\n",
    "\n",
    "    Returns:\n",
    "        str: Generated text from the model.\n",
    "    \"\"\"\n",
    "    endpoint = \"https://twiz.novasearch.org/ollama\"\n",
    "    data = {\n",
    "        \"model\": 'llama3.2',\n",
    "        \"stream\": False,\n",
    "        \"prompt\": prompt\n",
    "    }\n",
    "    print(data)\n",
    "\n",
    "    try:\n",
    "        response = requests.post(endpoint, json=data)\n",
    "        response.raise_for_status()\n",
    "        return response.json()[\"response\"]\n",
    "    except requests.exceptions.RequestException as e:\n",
    "        print(f\"Error: {e}\")\n",
    "        return None\n"
   ]
  },
  {
   "cell_type": "markdown",
   "id": "d928c61c-545d-40f3-a1f4-1fad5df2e9c9",
   "metadata": {},
   "source": [
    "## Example 1: Generative Answers"
   ]
  },
  {
   "cell_type": "code",
   "execution_count": 24,
   "id": "dc752d67-057e-40b9-b656-f6865622c93a",
   "metadata": {},
   "outputs": [
    {
     "name": "stdout",
     "output_type": "stream",
     "text": [
      "{'model': 'llama3.2', 'stream': False, 'prompt': 'Explain the concept of artificial intelligence in simple terms.'}\n",
      "\n",
      "Generated Text:\n",
      "Artificial Intelligence (AI) is a way to create machines that can think and act like humans. It's like creating a robot that can learn, make decisions, and solve problems on its own.\n",
      "\n",
      "Imagine you're teaching a child to recognize pictures of cats. You show them many images of cats and say \"this is a cat.\" The next time you show them an image of a dog, they might be able to say \"that's not a cat.\" AI works in a similar way, but instead of using pictures, it uses data (like numbers or words) to learn and make decisions.\n",
      "\n",
      "There are different types of AI, like:\n",
      "\n",
      "* Machine Learning: This is when the machine learns from data and can improve over time.\n",
      "* Natural Language Processing: This is when the machine understands human language and can respond to questions or messages.\n",
      "* Robotics: This is when the machine uses sensors and motors to interact with its environment.\n",
      "\n",
      "The goal of AI is to create machines that can:\n",
      "\n",
      "* Learn and adapt\n",
      "* Make decisions on their own\n",
      "* Solve problems efficiently\n",
      "\n",
      "But, just like humans, AI systems have limitations and can make mistakes. They need to be programmed and trained by people to work effectively.\n"
     ]
    }
   ],
   "source": [
    "\n",
    "PROMPT = \"Explain the concept of artificial intelligence in simple terms.\"\n",
    "response_text = generate_text_with_ollama(PROMPT)\n",
    "\n",
    "if response_text:\n",
    "    print()\n",
    "    print(\"Generated Text:\")\n",
    "    print(response_text)\n",
    "else:\n",
    "    print(\"Failed to retrieve a response.\")\n"
   ]
  },
  {
   "cell_type": "markdown",
   "id": "c5633ddc-404b-4a18-9dc3-1107aa24b40b",
   "metadata": {},
   "source": [
    "## Example 2: Short Generative Answers"
   ]
  },
  {
   "cell_type": "code",
   "execution_count": 25,
   "id": "96fae565-cfc7-4589-bb86-f01de0d42d60",
   "metadata": {},
   "outputs": [
    {
     "name": "stdout",
     "output_type": "stream",
     "text": [
      "{'model': 'llama3.2', 'stream': False, 'prompt': 'Explain the concept of artificial intelligence in simple terms and with less than 100 words.'}\n",
      "\n",
      "Generated Text:\n",
      "Artificial intelligence (AI) is a type of computer technology that helps machines think and learn like humans do. It's based on algorithms, which are sets of instructions that allow computers to analyze data, make decisions, and solve problems. AI can be used in many areas, such as image recognition, natural language processing, and decision-making systems. While AI is not yet capable of true human-like intelligence, it's becoming increasingly powerful and widely used in applications like virtual assistants, self-driving cars, and online chatbots. It's changing the way we live, work, and interact with technology.\n"
     ]
    }
   ],
   "source": [
    "\n",
    "# Example 2: Short answers.\n",
    "PROMPT = \"Explain the concept of artificial intelligence in simple terms and with less than 100 words.\"\n",
    "response_text = generate_text_with_ollama(PROMPT)\n",
    "\n",
    "if response_text:\n",
    "    print()\n",
    "    print(\"Generated Text:\")\n",
    "    print(response_text)\n",
    "else:\n",
    "    print(\"Failed to retrieve a response.\")\n"
   ]
  },
  {
   "cell_type": "markdown",
   "id": "90c683ac-acb5-49e5-a8fe-cb1e6a3d8417",
   "metadata": {},
   "source": [
    "## Example 3: Summarization"
   ]
  },
  {
   "cell_type": "code",
   "execution_count": 26,
   "id": "6eae17e4-9f14-4345-af62-4bcb43b19645",
   "metadata": {},
   "outputs": [
    {
     "name": "stdout",
     "output_type": "stream",
     "text": [
      "{'model': 'llama3.2', 'stream': False, 'prompt': 'Summarize this document and do not use more than 50 words: The diplomatic contact with HTS does not mean the foreign secretary has personally been in touch with the rebel group. Both the UK and the US have a vested interest in what happens next in Syria. Blinken told reporters on Saturday that the US interaction with HTS was in particular over the fate of the missing American journalist, Austin Tice. The UK closed its embassy in Damascus in 2013, two years after the Arab Spring protests began to be brutally suppressed there by the Assad regime. Asked whether HTS could be removed from the UKs list of proscribed terror groups, the foreign secretary said the rebel group remains a proscribed organisation that came out of al-Qaeda.'}\n",
      "\n",
      "Generated Text:\n",
      "The US and UK have diplomatic contact with HTS due to concerns over American journalist Austin Tice's fate in Syria. The UK still considers HTS a terrorist group, while the US interaction is separate from personal contact with the rebel group.\n"
     ]
    }
   ],
   "source": [
    "\n",
    "# Example 3: Summarization.\n",
    "PROMPT = 'Summarize this document and do not use more than 50 words: The diplomatic contact with HTS does not mean \\\n",
    "the foreign secretary has personally been in touch with the rebel group. Both the UK and the US have a vested \\\n",
    "interest in what happens next in Syria. Blinken told reporters on Saturday that the US interaction with HTS was \\\n",
    "in particular over the fate of the missing American journalist, Austin Tice. The UK closed its embassy in \\\n",
    "Damascus in 2013, two years after the Arab Spring protests began to be brutally suppressed there by the Assad regime. \\\n",
    "Asked whether HTS could be removed from the UK''s list of proscribed terror groups, the foreign secretary said the \\\n",
    "rebel group remains a proscribed organisation that came out of al-Qaeda.'\n",
    "\n",
    "response_text = generate_text_with_ollama(PROMPT)\n",
    "\n",
    "if response_text:\n",
    "    print()\n",
    "    print(\"Generated Text:\")\n",
    "    print(response_text)\n",
    "else:\n",
    "    print(\"Failed to retrieve a response.\")\n"
   ]
  },
  {
   "cell_type": "markdown",
   "id": "6b4f0251-77cf-45a9-bce1-cc5d999d6ba1",
   "metadata": {},
   "source": [
    "## Example 4: Question re-writing"
   ]
  },
  {
   "cell_type": "code",
   "execution_count": 46,
   "id": "caaa0eb8-19b1-4a35-81d8-9eff9f83f07d",
   "metadata": {},
   "outputs": [
    {
     "name": "stdout",
     "output_type": "stream",
     "text": [
      "{'model': 'llama3.2', 'stream': False, 'prompt': 'Rewrite the questions and be succint: What was the neolithic revolution? Why did it start?'}\n",
      "\n",
      "Generated Text:\n",
      "Here are rewritten versions of the questions in a concise format:\n",
      "\n",
      "1. What were the main characteristics of the Neolithic Revolution?\n",
      "2. What triggered or caused the Neolithic Revolution?\n",
      "\n",
      "(Note: These revised questions can help to focus the response on specific aspects of the topic, such as the major developments and events that characterized the Neolithic Revolution, rather than just asking for a general explanation.)\n"
     ]
    }
   ],
   "source": [
    "PROMPT = 'Rewrite the questions and be succint: What was the neolithic revolution? Why did it start?'\n",
    "\n",
    "response_text = generate_text_with_ollama(PROMPT)\n",
    "\n",
    "if response_text:\n",
    "    print()\n",
    "    print(\"Generated Text:\")\n",
    "    print(response_text)\n",
    "else:\n",
    "    print(\"Failed to retrieve a response.\")\n"
   ]
  }
 ],
 "metadata": {
  "kernelspec": {
   "display_name": "Python 3 (ipykernel)",
   "language": "python",
   "name": "python3"
  },
  "language_info": {
   "codemirror_mode": {
    "name": "ipython",
    "version": 3
   },
   "file_extension": ".py",
   "mimetype": "text/x-python",
   "name": "python",
   "nbconvert_exporter": "python",
   "pygments_lexer": "ipython3",
   "version": "3.9.19"
  }
 },
 "nbformat": 4,
 "nbformat_minor": 5
}
